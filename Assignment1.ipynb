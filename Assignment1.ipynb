{
  "nbformat": 4,
  "nbformat_minor": 0,
  "metadata": {
    "colab": {
      "provenance": [],
      "authorship_tag": "ABX9TyPqM9Ku202qAWCNQ6MIiOYs",
      "include_colab_link": true
    },
    "kernelspec": {
      "name": "python3",
      "display_name": "Python 3"
    },
    "language_info": {
      "name": "python"
    }
  },
  "cells": [
    {
      "cell_type": "markdown",
      "metadata": {
        "id": "view-in-github",
        "colab_type": "text"
      },
      "source": [
        "<a href=\"https://colab.research.google.com/github/AKSIbyte/Bearing-Data-Set/blob/main/Assignment1.ipynb\" target=\"_parent\"><img src=\"https://colab.research.google.com/assets/colab-badge.svg\" alt=\"Open In Colab\"/></a>"
      ]
    },
    {
      "cell_type": "code",
      "source": [
        "#Q1 To print your name, like as,\n",
        "print(\"Hello Arka\")\n"
      ],
      "metadata": {
        "colab": {
          "base_uri": "https://localhost:8080/"
        },
        "id": "45lBrqqq9iXB",
        "outputId": "3b3305eb-4501-49c7-aca9-198738bfabde"
      },
      "execution_count": null,
      "outputs": [
        {
          "output_type": "stream",
          "name": "stdout",
          "text": [
            "Hello Arka\n"
          ]
        }
      ]
    },
    {
      "cell_type": "code",
      "source": [
        "#Q2 To create a variable which is having some value in it, once give a numeric value, then give Alphabetical value. Then, print the variables value for both the above cases.\n",
        "\n",
        "my_variable_numeric = 10\n",
        "print(my_variable_numeric)\n",
        "my_variable_alphabetical = \"Arka\"\n",
        "print(\"Hello\", my_variable_alphabetical)\n"
      ],
      "metadata": {
        "colab": {
          "base_uri": "https://localhost:8080/"
        },
        "id": "m5nyT7QP9iep",
        "outputId": "561c0b20-6744-4df5-f04b-382dcdbaf8c6"
      },
      "execution_count": null,
      "outputs": [
        {
          "output_type": "stream",
          "name": "stdout",
          "text": [
            "10\n",
            "Hello Arka\n"
          ]
        }
      ]
    },
    {
      "cell_type": "code",
      "source": [
        "#Q3 Find the simple interest using Python:\n",
        "\n",
        " # Principal (P): The initial amount of money borrowed or invested.\n",
        "  # Rate of Interest (R): The percentage of interest per period.\n",
        "  #Time (T): The duration for which the money is taken.\n",
        "\n",
        "  # The formula for simple interest is = (P×R×T)/100\n",
        "\n",
        "principal = 10000\n",
        "rate = 8\n",
        "time = 4\n",
        "simple_interest = (principal * rate * time) / 100\n",
        "print(\"Simple Interest (fixed values):\", simple_interest)\n",
        "# b. Taking input from the user (int)\n",
        "print(\"\\nCalculate Simple Interest (int input):\")\n",
        "principal = int(input(\"Enter the principal amount: \"))\n",
        "rate = int(input(\"Enter the rate of interest: \"))\n",
        "time = int(input(\"Enter the time period (in years): \"))\n",
        "simple_interest = (principal * rate * time) / 100\n",
        "print(\"Simple Interest:\", simple_interest)\n",
        "\n",
        "\n",
        "# b. Taking input from the user (float)\n",
        "print(\"\\nCalculate Simple Interest (float input):\")\n",
        "principal = float(input(\"Enter the principal amount: \"))\n",
        "rate = float(input(\"Enter the rate of interest: \"))\n",
        "time = float(input(\"Enter the time period (in years): \"))\n",
        "simple_interest = (principal * rate * time) / 100\n",
        "print(\"Simple Interest:\", simple_interest)\n"
      ],
      "metadata": {
        "colab": {
          "base_uri": "https://localhost:8080/"
        },
        "id": "_aIMX0xt9ihA",
        "outputId": "0464fa28-ecc9-48f6-e6be-82f2f0099ca4"
      },
      "execution_count": null,
      "outputs": [
        {
          "output_type": "stream",
          "name": "stdout",
          "text": [
            "Simple Interest (fixed values): 3200.0\n",
            "\n",
            "Calculate Simple Interest (int input):\n",
            "Enter the principal amount: 33\n",
            "Enter the rate of interest: 55\n",
            "Enter the time period (in years): 88\n",
            "Simple Interest: 1597.2\n",
            "\n",
            "Calculate Simple Interest (float input):\n",
            "Enter the principal amount: 9\n",
            "Enter the rate of interest: 66\n",
            "Enter the time period (in years): 3\n",
            "Simple Interest: 17.82\n"
          ]
        }
      ]
    },
    {
      "cell_type": "code",
      "source": [
        "#Q4  a python program to find the compound interest (CI). Take the principal (P), rate of interest (r), number of\n",
        "#      times interest is compounded per year (n) and the time in years (t) as input from user.\n",
        "#    Since r is in percentage, so incorporate 100 in the denominator.\n",
        "#    Test cases:\n",
        "#    P = 100.5, T=4, r =4.5, n= 2     #Correct input\n",
        "#    P =100, T =4.5 , r = 3, n =3       #In this for\n",
        "\n",
        "def calculate_compound_interest():\n",
        "  try:\n",
        "    principal = float(input(\"Enter the principal amount (P): \"))\n",
        "    rate = float(input(\"Enter the rate of interest (r) in percentage: \"))\n",
        "    time = int(input(\"Enter the time period (t) in years: \"))\n",
        "    n = int(input(\"Enter the number of times interest is compounded per year (n): \"))\n",
        "\n",
        "    if time <= 0 or n <= 0:\n",
        "      print(\"Time and number of compounding periods must be positive.\")\n",
        "      return\n",
        "\n",
        "    amount = principal * (1 + (rate / (100 * n)))**(n * time)\n",
        "    compound_interest = amount - principal\n",
        "\n",
        "    print(\"Compound Interest:\", compound_interest)\n",
        "\n",
        "  except ValueError:\n",
        "    print(\"Invalid input. Please enter valid numerical values.\")\n",
        "\n",
        "\n",
        "calculate_compound_interest()\n"
      ],
      "metadata": {
        "colab": {
          "base_uri": "https://localhost:8080/"
        },
        "id": "UAIlQguV9ijZ",
        "outputId": "2a160806-d4f2-434f-a5a7-3b4249995220"
      },
      "execution_count": null,
      "outputs": [
        {
          "output_type": "stream",
          "name": "stdout",
          "text": [
            "Enter the principal amount (P): 5\n",
            "Enter the rate of interest (r) in percentage: 4\n",
            "Enter the time period (t) in years: 3\n",
            "Enter the number of times interest is compounded per year (n): 2\n",
            "Compound Interest: 0.6308120963200006\n"
          ]
        }
      ]
    },
    {
      "cell_type": "code",
      "source": [
        "#Q5. Find the largest of three numbers. Take the numbers as input from user.\n",
        "#    Test cases:\n",
        "#    Take 100,100,100 as input from user\n",
        "#    Take 100,101,100 as input from user\n",
        "#    Take 100,101,102 as input from user\n",
        "#    Take 100,100,101 as input from user\n",
        "#    Take 100.5,100,100.5 as input from user\n",
        "#    Take twenty, thirty and fifteen as input from user\n",
        "\n",
        "def find_largest_of_three():\n",
        "  try:\n",
        "    num1 = float(input(\"Enter the first number: \"))\n",
        "    num2 = float(input(\"Enter the second number: \"))\n",
        "    num3 = float(input(\"Enter the third number: \"))\n",
        "\n",
        "    if num1 >= num2 and num1 >= num3:\n",
        "      largest = num1\n",
        "    elif num2 >= num1 and num2 >= num3:\n",
        "      largest = num2\n",
        "    else:\n",
        "      largest = num3\n",
        "\n",
        "    print(\"The largest number is:\", largest)\n",
        "\n",
        "  except ValueError:\n",
        "    print(\"Enter valid values.\")\n",
        "\n",
        "\n",
        "find_largest_of_three()\n"
      ],
      "metadata": {
        "colab": {
          "base_uri": "https://localhost:8080/"
        },
        "id": "oTLMRgah9ilL",
        "outputId": "c455275c-e636-464b-ee41-3de56605361d"
      },
      "execution_count": 1,
      "outputs": [
        {
          "output_type": "stream",
          "name": "stdout",
          "text": [
            "Enter the first number: 11\n",
            "Enter the second number: 22\n",
            "Enter the third number: 73\n",
            "The largest number is: 73.0\n"
          ]
        }
      ]
    }
  ]
}